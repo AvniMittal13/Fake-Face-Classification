{
  "cells": [
    {
      "cell_type": "code",
      "execution_count": null,
      "id": "80863e57",
      "metadata": {
        "id": "80863e57"
      },
      "outputs": [],
      "source": [
        "import os\n",
        "import cv2"
      ]
    },
    {
      "cell_type": "code",
      "execution_count": null,
      "id": "3c04d1d3",
      "metadata": {
        "id": "3c04d1d3"
      },
      "outputs": [],
      "source": [
        "images = []\n",
        "labels = []"
      ]
    },
    {
      "cell_type": "code",
      "source": [
        "!pip uninstall -y kaggle\n",
        "!pip install --upgrade pip\n",
        "!pip install kaggle==1.5.6"
      ],
      "metadata": {
        "colab": {
          "base_uri": "https://localhost:8080/"
        },
        "id": "ztd4mgn9zqOv",
        "outputId": "2af16dca-e0d4-4474-f8d5-4a4a99a38e29"
      },
      "id": "ztd4mgn9zqOv",
      "execution_count": null,
      "outputs": [
        {
          "output_type": "stream",
          "name": "stdout",
          "text": [
            "Found existing installation: kaggle 1.5.12\n",
            "Uninstalling kaggle-1.5.12:\n",
            "  Successfully uninstalled kaggle-1.5.12\n",
            "Requirement already satisfied: pip in /usr/local/lib/python3.7/dist-packages (21.1.3)\n",
            "Collecting pip\n",
            "  Downloading pip-21.3.1-py3-none-any.whl (1.7 MB)\n",
            "\u001b[K     |████████████████████████████████| 1.7 MB 5.3 MB/s \n",
            "\u001b[?25hInstalling collected packages: pip\n",
            "  Attempting uninstall: pip\n",
            "    Found existing installation: pip 21.1.3\n",
            "    Uninstalling pip-21.1.3:\n",
            "      Successfully uninstalled pip-21.1.3\n",
            "Successfully installed pip-21.3.1\n",
            "Collecting kaggle==1.5.6\n",
            "  Downloading kaggle-1.5.6.tar.gz (58 kB)\n",
            "     |████████████████████████████████| 58 kB 2.3 MB/s             \n",
            "\u001b[?25h  Preparing metadata (setup.py) ... \u001b[?25l\u001b[?25hdone\n",
            "Requirement already satisfied: urllib3<1.25,>=1.21.1 in /usr/local/lib/python3.7/dist-packages (from kaggle==1.5.6) (1.24.3)\n",
            "Requirement already satisfied: six>=1.10 in /usr/local/lib/python3.7/dist-packages (from kaggle==1.5.6) (1.15.0)\n",
            "Requirement already satisfied: certifi in /usr/local/lib/python3.7/dist-packages (from kaggle==1.5.6) (2021.10.8)\n",
            "Requirement already satisfied: python-dateutil in /usr/local/lib/python3.7/dist-packages (from kaggle==1.5.6) (2.8.2)\n",
            "Requirement already satisfied: requests in /usr/local/lib/python3.7/dist-packages (from kaggle==1.5.6) (2.23.0)\n",
            "Requirement already satisfied: tqdm in /usr/local/lib/python3.7/dist-packages (from kaggle==1.5.6) (4.62.3)\n",
            "Requirement already satisfied: python-slugify in /usr/local/lib/python3.7/dist-packages (from kaggle==1.5.6) (5.0.2)\n",
            "Requirement already satisfied: text-unidecode>=1.3 in /usr/local/lib/python3.7/dist-packages (from python-slugify->kaggle==1.5.6) (1.3)\n",
            "Requirement already satisfied: idna<3,>=2.5 in /usr/local/lib/python3.7/dist-packages (from requests->kaggle==1.5.6) (2.10)\n",
            "Requirement already satisfied: chardet<4,>=3.0.2 in /usr/local/lib/python3.7/dist-packages (from requests->kaggle==1.5.6) (3.0.4)\n",
            "Building wheels for collected packages: kaggle\n",
            "  Building wheel for kaggle (setup.py) ... \u001b[?25l\u001b[?25hdone\n",
            "  Created wheel for kaggle: filename=kaggle-1.5.6-py3-none-any.whl size=72857 sha256=0228bf06985ec56148baecaddb6c1be481cf12625d48caa3d7356642d0855e9c\n",
            "  Stored in directory: /root/.cache/pip/wheels/aa/e7/e7/eb3c3d514c33294d77ddd5a856bdd58dc9c1fabbed59a02a2b\n",
            "Successfully built kaggle\n",
            "Installing collected packages: kaggle\n",
            "Successfully installed kaggle-1.5.6\n",
            "\u001b[33mWARNING: Running pip as the 'root' user can result in broken permissions and conflicting behaviour with the system package manager. It is recommended to use a virtual environment instead: https://pip.pypa.io/warnings/venv\u001b[0m\n"
          ]
        }
      ]
    },
    {
      "cell_type": "code",
      "source": [
        "import os\n",
        "os.environ['KAGGLE_USERNAME'] = \"sweetyagarwal\" # username from the json file\n",
        "os.environ['KAGGLE_KEY'] = \"a9a77443488780e5e917e15412688cd8\" # Provide your key from the json file\n",
        "!kaggle competitions download -c fake-image-classification-challenge # api copied from kaggle"
      ],
      "metadata": {
        "colab": {
          "base_uri": "https://localhost:8080/"
        },
        "id": "OJTSgL8EzqIy",
        "outputId": "a45a8fe0-65ce-4250-f4f5-d0821299d45e"
      },
      "id": "OJTSgL8EzqIy",
      "execution_count": null,
      "outputs": [
        {
          "output_type": "stream",
          "name": "stdout",
          "text": [
            "Downloading fake-image-classification-challenge.zip to /content\n",
            " 97% 589M/608M [00:03<00:00, 204MB/s]\n",
            "100% 608M/608M [00:03<00:00, 187MB/s]\n"
          ]
        }
      ]
    },
    {
      "cell_type": "code",
      "source": [
        "from zipfile import ZipFile\n",
        "\n",
        "file_name = \"/content/fake-image-classification-challenge.zip\"\n",
        "\n",
        "with ZipFile(file_name, 'r') as zip:\n",
        "  zip.extractall()\n",
        "  print('done')"
      ],
      "metadata": {
        "colab": {
          "base_uri": "https://localhost:8080/"
        },
        "id": "xz1IKMd_zqFf",
        "outputId": "bd3c20cd-c14f-457d-d803-b278322ee5f8"
      },
      "id": "xz1IKMd_zqFf",
      "execution_count": null,
      "outputs": [
        {
          "output_type": "stream",
          "name": "stdout",
          "text": [
            "done\n"
          ]
        }
      ]
    },
    {
      "cell_type": "code",
      "source": [
        ""
      ],
      "metadata": {
        "id": "FPl02vq_tDFt"
      },
      "id": "FPl02vq_tDFt",
      "execution_count": null,
      "outputs": []
    },
    {
      "cell_type": "code",
      "source": [
        "#imports\n",
        "import os\n",
        "import zipfile\n",
        "\n",
        "import numpy as np # linear algebra\n",
        "import pandas as pd # data processing, CSV file I/O (e.g. pd.read_csv)\n",
        "\n",
        "import tensorflow as tf\n",
        "from tensorflow.keras.applications import EfficientNetB0\n",
        "from tensorflow.keras.applications.efficientnet import preprocess_input\n",
        "from tensorflow.keras.preprocessing.image import ImageDataGenerator\n",
        "\n",
        "from tensorflow import keras\n",
        "from tensorflow.keras import Model\n",
        "from tensorflow.keras.optimizers import RMSprop\n",
        "\n",
        "from sklearn.model_selection import train_test_split\n",
        "\n",
        "import matplotlib.pyplot as plt"
      ],
      "metadata": {
        "id": "eeSEbIqts-rx"
      },
      "id": "eeSEbIqts-rx",
      "execution_count": null,
      "outputs": []
    },
    {
      "cell_type": "code",
      "source": [
        "# TRAIN_PATH = \"/content/data/train\"\n",
        "# # TEST_PATH = \"../input/dogs-vs-cats-redux-kernels-edition/test.zip\"\n",
        "\n",
        "# # UNZIP_DATA = \"../kaggle/files/unzipped/\"\n",
        "# # UNZIP_TRAIN = \"../kaggle/files/unzipped/train\"\n",
        "# # UNZIP_TEST = \"../kaggle/files/unzipped/test\"\n",
        "\n",
        "# BATCH_SIZE = 32\n",
        "\n",
        "# SEED = 88888\n",
        "IMG_SIZE = 64\n",
        "EPOCHS = 30"
      ],
      "metadata": {
        "id": "dDwnGuZxtOnG"
      },
      "id": "dDwnGuZxtOnG",
      "execution_count": null,
      "outputs": []
    },
    {
      "cell_type": "code",
      "source": [
        "# training_images_files = os.listdir(\"/content/data/train\")\n",
        "# # test_image_files =os.listdir(\"../kaggle/files/unzipped/test\")\n",
        "# #len(test_image_files)"
      ],
      "metadata": {
        "id": "CmBdT04-tb3M"
      },
      "id": "CmBdT04-tb3M",
      "execution_count": null,
      "outputs": []
    },
    {
      "cell_type": "code",
      "execution_count": null,
      "id": "82246015",
      "metadata": {
        "colab": {
          "base_uri": "https://localhost:8080/"
        },
        "id": "82246015",
        "outputId": "bdbc2156-f0d5-43a0-b14e-f06f4314a4eb"
      },
      "outputs": [
        {
          "output_type": "stream",
          "name": "stdout",
          "text": [
            "Inside folder  fake\n",
            "Inside folder  real\n"
          ]
        }
      ],
      "source": [
        "# face_cascade = cv2.CascadeClassifier('C:/Users/Murtaza Hasan/Desktop/Artificial Intelligence/haarcascade_frontalface_default.xml')\n",
        "for i in ['fake', 'real']:\n",
        "    imageNameList=sorted(os.listdir(\"/content/data/train/\" + str(i)))\n",
        "    for fileName in imageNameList:\n",
        "        Image=cv2.imread(\"/content/data/train/\" + str(i) + \"/\" + str(fileName))\n",
        "        try:\n",
        "            #gray=cv2.cvtColor(Image,cv2.COLOR_BGR2GRAY)\n",
        "#             faces = face_cascade.detectMultiScale(gray, 1.1, 10)\n",
        "            Image=cv2.resize(Image,(64,64))\n",
        "#             Image=Image/255\n",
        "    #             print(Image)\n",
        "    #             print(\"hello\")\n",
        "            images.append(Image)\n",
        "            labels.append(i)\n",
        "#             if i=='real':\n",
        "#                 print('1')\n",
        "#                 labels.append(1)\n",
        "\n",
        "#             else:\n",
        "#                 print('0')\n",
        "#                 labels.append(0)\n",
        "                \n",
        "        except:\n",
        "            pass\n",
        "    print(\"Inside folder \", i)\n",
        "\n",
        "    "
      ]
    },
    {
      "cell_type": "code",
      "execution_count": null,
      "id": "68cc1844",
      "metadata": {
        "id": "68cc1844"
      },
      "outputs": [],
      "source": [
        "import numpy as np"
      ]
    },
    {
      "cell_type": "code",
      "execution_count": null,
      "id": "08f695ec",
      "metadata": {
        "id": "08f695ec"
      },
      "outputs": [],
      "source": [
        "images=np.array(images)\n",
        "images=images/255\n",
        "labels=np.array(labels)"
      ]
    },
    {
      "cell_type": "code",
      "execution_count": null,
      "id": "244cf500",
      "metadata": {
        "colab": {
          "base_uri": "https://localhost:8080/"
        },
        "id": "244cf500",
        "outputId": "a36764c1-f26a-4072-9bff-8c88da92a84a"
      },
      "outputs": [
        {
          "output_type": "execute_result",
          "data": {
            "text/plain": [
              "array(['fake', 'fake', 'fake', ..., 'real', 'real', 'real'], dtype='<U4')"
            ]
          },
          "metadata": {},
          "execution_count": 10
        }
      ],
      "source": [
        "labels"
      ]
    },
    {
      "cell_type": "code",
      "execution_count": null,
      "id": "dcfca5e2",
      "metadata": {
        "id": "dcfca5e2"
      },
      "outputs": [],
      "source": [
        "from sklearn.preprocessing import LabelEncoder\n",
        "le = LabelEncoder()\n",
        "labels = le.fit_transform(labels)"
      ]
    },
    {
      "cell_type": "code",
      "execution_count": null,
      "id": "2ab718c8",
      "metadata": {
        "colab": {
          "base_uri": "https://localhost:8080/"
        },
        "id": "2ab718c8",
        "outputId": "1b354e5d-5cc3-4b7e-bc49-c243ef94d83c"
      },
      "outputs": [
        {
          "output_type": "execute_result",
          "data": {
            "text/plain": [
              "array([0, 0, 0, ..., 1, 1, 1])"
            ]
          },
          "metadata": {},
          "execution_count": 12
        }
      ],
      "source": [
        "labels"
      ]
    },
    {
      "cell_type": "code",
      "source": [
        "# from tensorflow.keras.preprocessing.image import ImageDataGenerator\n",
        "# from tensorflow.keras.layers import GlobalAveragePooling2D\n",
        "# from tensorflow.keras.layers import BatchNormalization\n",
        "# from tensorflow.keras.applications import MobileNetV2\n",
        "# from tensorflow.keras.optimizers import Adam\n",
        "# from tensorflow.keras.layers import Dropout\n",
        "# from tensorflow.keras.layers import Dense\n",
        "# from tensorflow.keras import Sequential\n",
        "# import matplotlib.pyplot as plt\n",
        "# import tensorflow as tf\n",
        "# # import split_folders\n",
        "# import numpy as np\n",
        "# import cv2\n",
        "# import os"
      ],
      "metadata": {
        "id": "UbF6UvwlyK3o"
      },
      "id": "UbF6UvwlyK3o",
      "execution_count": null,
      "outputs": []
    },
    {
      "cell_type": "code",
      "source": [
        "# real = \"/content/data/train/real\"\n",
        "# fake = \"/content/data/train/fake\"\n",
        "\n",
        "# real_path = os.listdir(real)\n",
        "# fake_path = os.listdir(fake)"
      ],
      "metadata": {
        "id": "d_AacAjLyYGO"
      },
      "id": "d_AacAjLyYGO",
      "execution_count": null,
      "outputs": []
    },
    {
      "cell_type": "code",
      "execution_count": null,
      "id": "141769d3",
      "metadata": {
        "id": "141769d3"
      },
      "outputs": [],
      "source": [
        "from sklearn.model_selection import train_test_split"
      ]
    },
    {
      "cell_type": "code",
      "execution_count": null,
      "id": "e3d7577d",
      "metadata": {
        "id": "e3d7577d"
      },
      "outputs": [],
      "source": [
        "trainX,validationX,trainY,validationY=train_test_split(images,labels,test_size=0.3,stratify=labels)"
      ]
    },
    {
      "cell_type": "code",
      "execution_count": null,
      "id": "7c1fba04",
      "metadata": {
        "id": "7c1fba04"
      },
      "outputs": [],
      "source": [
        "import tensorflow as tf"
      ]
    },
    {
      "cell_type": "code",
      "source": [
        "from tensorflow import keras\n",
        "from tensorflow.keras import layers\n",
        "from tensorflow.keras import models\n",
        "#from keras.layers import Input, Dense, Activation, ZeroPadding2D, BatchNormalization, Flatten, Conv2D\n",
        "#from keras.layers import AveragePooling2D, MaxPooling2D, Dropout, GlobalMaxPooling2D, GlobalAveragePooling2D\n",
        "#from keras.models import Model\n",
        "#from keras.preprocessing import image\n",
        "#from keras.utils import layer_utils\n",
        "#from keras.utils.data_utils import get_file\n",
        "#from keras.applications.imagenet_utils import preprocess_input\n",
        "\n",
        "\n",
        "\n",
        "model = models.Sequential()\n",
        "\n",
        "model.add(layers.Conv2D(32, (3, 3), input_shape=(64,64,3)))\n",
        "model.add(layers.Activation('relu'))\n",
        "model.add(layers.BatchNormalization(axis = 3))\n",
        "model.add(layers.SpatialDropout2D(0.25))\n",
        "model.add(layers.MaxPooling2D(pool_size=(2, 2)))\n",
        "\n",
        "model.add(layers.Conv2D(64, (3, 3)))\n",
        "model.add(layers.Activation('relu'))\n",
        "model.add(layers.BatchNormalization(axis = 3))\n",
        "model.add(layers.SpatialDropout2D(0.25))\n",
        "model.add(layers.MaxPooling2D(pool_size=(2, 2)))\n",
        "\n",
        "model.add(layers.Conv2D(128, (3, 3)))\n",
        "model.add(layers.Activation('relu'))\n",
        "model.add(layers.BatchNormalization(axis = 3))\n",
        "model.add(layers.SpatialDropout2D(0.25))\n",
        "model.add(layers.MaxPooling2D(pool_size=(2, 2)))\n",
        "\n",
        "model.add(layers.Conv2D(256, (3, 3)))\n",
        "model.add(layers.Activation('relu'))\n",
        "model.add(layers.BatchNormalization(axis = 3))\n",
        "model.add(layers.SpatialDropout2D(0.25))\n",
        "\n",
        "model.add(layers.Conv2D(256, (3, 3)))\n",
        "model.add(layers.Activation('relu'))\n",
        "model.add(layers.BatchNormalization(axis = 3))\n",
        "model.add(layers.SpatialDropout2D(0.25))\n",
        "model.add(layers.MaxPooling2D(pool_size=(2, 2)))\n",
        "\n",
        "model.add(layers.Flatten())\n",
        "model.add(layers.Dense(1024))\n",
        "model.add(layers.Activation('relu'))\n",
        "model.add(layers.BatchNormalization())\n",
        "model.add(layers.Dropout(0.5))\n",
        "\n",
        "model.add(layers.Dense(1024))\n",
        "model.add(layers.Activation('relu'))\n",
        "model.add(layers.BatchNormalization())\n",
        "model.add(layers.Dropout(0.5))\n",
        "model.add(layers.Dense(1))\n",
        "model.add(layers.Activation('sigmoid'))"
      ],
      "metadata": {
        "id": "CQrw53YJyo4t"
      },
      "id": "CQrw53YJyo4t",
      "execution_count": null,
      "outputs": []
    },
    {
      "cell_type": "code",
      "source": [
        "model.compile(optimizer = 'adam', loss = 'binary_crossentropy', metrics = ['accuracy'])"
      ],
      "metadata": {
        "id": "36v9t3Fpyova"
      },
      "id": "36v9t3Fpyova",
      "execution_count": null,
      "outputs": []
    },
    {
      "cell_type": "code",
      "source": [
        "history = model.fit(\n",
        "    trainX, trainY, validation_data=(validationX, validationY),epochs=50\n",
        "    \n",
        "    )"
      ],
      "metadata": {
        "colab": {
          "base_uri": "https://localhost:8080/"
        },
        "id": "R9UozpdBu2OH",
        "outputId": "b23f7f63-bd86-4569-d02f-54682168fc30"
      },
      "id": "R9UozpdBu2OH",
      "execution_count": null,
      "outputs": [
        {
          "output_type": "stream",
          "name": "stdout",
          "text": [
            "Epoch 1/50\n",
            "394/394 [==============================] - 26s 38ms/step - loss: 0.9267 - accuracy: 0.5325 - val_loss: 0.7094 - val_accuracy: 0.5098\n",
            "Epoch 2/50\n",
            "394/394 [==============================] - 12s 29ms/step - loss: 0.6896 - accuracy: 0.5987 - val_loss: 0.5837 - val_accuracy: 0.6696\n",
            "Epoch 3/50\n",
            "394/394 [==============================] - 12s 29ms/step - loss: 0.6260 - accuracy: 0.6425 - val_loss: 0.5533 - val_accuracy: 0.6704\n",
            "Epoch 4/50\n",
            "394/394 [==============================] - 12s 29ms/step - loss: 0.5975 - accuracy: 0.6548 - val_loss: 0.5400 - val_accuracy: 0.6869\n",
            "Epoch 5/50\n",
            "394/394 [==============================] - 12s 30ms/step - loss: 0.5830 - accuracy: 0.6659 - val_loss: 0.5577 - val_accuracy: 0.6956\n",
            "Epoch 6/50\n",
            "394/394 [==============================] - 12s 30ms/step - loss: 0.5686 - accuracy: 0.6798 - val_loss: 0.5662 - val_accuracy: 0.6919\n",
            "Epoch 7/50\n",
            "394/394 [==============================] - 12s 30ms/step - loss: 0.5551 - accuracy: 0.6907 - val_loss: 0.5787 - val_accuracy: 0.6611\n",
            "Epoch 8/50\n",
            "394/394 [==============================] - 12s 30ms/step - loss: 0.5412 - accuracy: 0.7030 - val_loss: 0.5292 - val_accuracy: 0.7159\n",
            "Epoch 9/50\n",
            "394/394 [==============================] - 12s 29ms/step - loss: 0.5245 - accuracy: 0.7166 - val_loss: 0.5099 - val_accuracy: 0.7248\n",
            "Epoch 10/50\n",
            "394/394 [==============================] - 12s 29ms/step - loss: 0.5086 - accuracy: 0.7239 - val_loss: 0.4778 - val_accuracy: 0.7176\n",
            "Epoch 11/50\n",
            "394/394 [==============================] - 12s 30ms/step - loss: 0.4897 - accuracy: 0.7353 - val_loss: 0.4497 - val_accuracy: 0.7643\n",
            "Epoch 12/50\n",
            "394/394 [==============================] - 12s 29ms/step - loss: 0.4730 - accuracy: 0.7511 - val_loss: 0.5041 - val_accuracy: 0.7404\n",
            "Epoch 13/50\n",
            "394/394 [==============================] - 12s 30ms/step - loss: 0.4597 - accuracy: 0.7624 - val_loss: 0.4511 - val_accuracy: 0.7426\n",
            "Epoch 14/50\n",
            "394/394 [==============================] - 12s 30ms/step - loss: 0.4469 - accuracy: 0.7705 - val_loss: 0.4066 - val_accuracy: 0.7891\n",
            "Epoch 15/50\n",
            "394/394 [==============================] - 12s 30ms/step - loss: 0.4391 - accuracy: 0.7786 - val_loss: 0.4052 - val_accuracy: 0.7926\n",
            "Epoch 16/50\n",
            "394/394 [==============================] - 12s 30ms/step - loss: 0.4157 - accuracy: 0.7897 - val_loss: 0.4173 - val_accuracy: 0.7869\n",
            "Epoch 17/50\n",
            "394/394 [==============================] - 12s 30ms/step - loss: 0.4099 - accuracy: 0.7918 - val_loss: 0.4533 - val_accuracy: 0.7535\n",
            "Epoch 18/50\n",
            "394/394 [==============================] - 12s 29ms/step - loss: 0.4018 - accuracy: 0.8002 - val_loss: 0.4054 - val_accuracy: 0.7980\n",
            "Epoch 19/50\n",
            "394/394 [==============================] - 12s 30ms/step - loss: 0.3882 - accuracy: 0.8116 - val_loss: 0.3918 - val_accuracy: 0.8056\n",
            "Epoch 20/50\n",
            "394/394 [==============================] - 12s 30ms/step - loss: 0.3712 - accuracy: 0.8229 - val_loss: 0.3871 - val_accuracy: 0.8087\n",
            "Epoch 21/50\n",
            "394/394 [==============================] - 12s 29ms/step - loss: 0.3612 - accuracy: 0.8284 - val_loss: 0.4798 - val_accuracy: 0.7617\n",
            "Epoch 22/50\n",
            "394/394 [==============================] - 12s 30ms/step - loss: 0.3465 - accuracy: 0.8373 - val_loss: 0.3697 - val_accuracy: 0.8156\n",
            "Epoch 23/50\n",
            "394/394 [==============================] - 12s 30ms/step - loss: 0.3412 - accuracy: 0.8383 - val_loss: 0.3626 - val_accuracy: 0.8244\n",
            "Epoch 24/50\n",
            "394/394 [==============================] - 12s 30ms/step - loss: 0.3276 - accuracy: 0.8487 - val_loss: 0.3756 - val_accuracy: 0.8287\n",
            "Epoch 25/50\n",
            "394/394 [==============================] - 12s 30ms/step - loss: 0.3098 - accuracy: 0.8587 - val_loss: 0.3778 - val_accuracy: 0.8194\n",
            "Epoch 26/50\n",
            "394/394 [==============================] - 12s 30ms/step - loss: 0.3056 - accuracy: 0.8624 - val_loss: 0.3556 - val_accuracy: 0.8337\n",
            "Epoch 27/50\n",
            "394/394 [==============================] - 12s 29ms/step - loss: 0.2907 - accuracy: 0.8688 - val_loss: 0.3801 - val_accuracy: 0.8202\n",
            "Epoch 28/50\n",
            "394/394 [==============================] - 11s 29ms/step - loss: 0.2765 - accuracy: 0.8779 - val_loss: 0.3660 - val_accuracy: 0.8333\n",
            "Epoch 29/50\n",
            "394/394 [==============================] - 12s 29ms/step - loss: 0.2625 - accuracy: 0.8867 - val_loss: 0.3636 - val_accuracy: 0.8322\n",
            "Epoch 30/50\n",
            "394/394 [==============================] - 12s 30ms/step - loss: 0.2493 - accuracy: 0.8926 - val_loss: 0.3520 - val_accuracy: 0.8365\n",
            "Epoch 31/50\n",
            "394/394 [==============================] - 12s 29ms/step - loss: 0.2441 - accuracy: 0.8944 - val_loss: 0.3692 - val_accuracy: 0.8385\n",
            "Epoch 32/50\n",
            "394/394 [==============================] - 12s 30ms/step - loss: 0.2391 - accuracy: 0.8984 - val_loss: 0.3918 - val_accuracy: 0.8404\n",
            "Epoch 33/50\n",
            "394/394 [==============================] - 12s 30ms/step - loss: 0.2299 - accuracy: 0.9010 - val_loss: 0.3786 - val_accuracy: 0.8391\n",
            "Epoch 34/50\n",
            "394/394 [==============================] - 12s 29ms/step - loss: 0.2230 - accuracy: 0.9071 - val_loss: 0.3842 - val_accuracy: 0.8370\n",
            "Epoch 35/50\n",
            "394/394 [==============================] - 12s 30ms/step - loss: 0.2077 - accuracy: 0.9152 - val_loss: 0.3832 - val_accuracy: 0.8435\n",
            "Epoch 36/50\n",
            "394/394 [==============================] - 12s 30ms/step - loss: 0.2046 - accuracy: 0.9137 - val_loss: 0.3965 - val_accuracy: 0.8219\n",
            "Epoch 37/50\n",
            "394/394 [==============================] - 12s 29ms/step - loss: 0.2010 - accuracy: 0.9152 - val_loss: 0.3871 - val_accuracy: 0.8433\n",
            "Epoch 38/50\n",
            "394/394 [==============================] - 12s 29ms/step - loss: 0.1951 - accuracy: 0.9187 - val_loss: 0.3641 - val_accuracy: 0.8415\n",
            "Epoch 39/50\n",
            "394/394 [==============================] - 12s 30ms/step - loss: 0.1842 - accuracy: 0.9234 - val_loss: 0.4085 - val_accuracy: 0.8389\n",
            "Epoch 40/50\n",
            "394/394 [==============================] - 12s 30ms/step - loss: 0.1803 - accuracy: 0.9279 - val_loss: 0.4046 - val_accuracy: 0.8487\n",
            "Epoch 41/50\n",
            "394/394 [==============================] - 12s 30ms/step - loss: 0.1706 - accuracy: 0.9324 - val_loss: 0.4134 - val_accuracy: 0.8467\n",
            "Epoch 42/50\n",
            "394/394 [==============================] - 12s 29ms/step - loss: 0.1698 - accuracy: 0.9322 - val_loss: 0.3713 - val_accuracy: 0.8502\n",
            "Epoch 43/50\n",
            "394/394 [==============================] - 12s 30ms/step - loss: 0.1609 - accuracy: 0.9364 - val_loss: 0.4002 - val_accuracy: 0.8435\n",
            "Epoch 44/50\n",
            "394/394 [==============================] - 12s 30ms/step - loss: 0.1521 - accuracy: 0.9388 - val_loss: 0.4163 - val_accuracy: 0.8470\n",
            "Epoch 45/50\n",
            "394/394 [==============================] - 12s 30ms/step - loss: 0.1522 - accuracy: 0.9418 - val_loss: 0.3972 - val_accuracy: 0.8363\n",
            "Epoch 46/50\n",
            "394/394 [==============================] - 12s 29ms/step - loss: 0.1539 - accuracy: 0.9397 - val_loss: 0.3979 - val_accuracy: 0.8430\n",
            "Epoch 47/50\n",
            "394/394 [==============================] - 12s 29ms/step - loss: 0.1465 - accuracy: 0.9410 - val_loss: 0.4217 - val_accuracy: 0.8409\n",
            "Epoch 48/50\n",
            "394/394 [==============================] - 12s 30ms/step - loss: 0.1401 - accuracy: 0.9463 - val_loss: 0.4335 - val_accuracy: 0.8480\n",
            "Epoch 49/50\n",
            "394/394 [==============================] - 12s 30ms/step - loss: 0.1305 - accuracy: 0.9484 - val_loss: 0.4713 - val_accuracy: 0.8481\n",
            "Epoch 50/50\n",
            "394/394 [==============================] - 13s 33ms/step - loss: 0.1379 - accuracy: 0.9449 - val_loss: 0.4797 - val_accuracy: 0.8339\n"
          ]
        }
      ]
    },
    {
      "cell_type": "code",
      "source": [
        "history = model.fit(\n",
        "    trainX, trainY, validation_data=(validationX, validationY),epochs=50\n",
        "    \n",
        "    )"
      ],
      "metadata": {
        "colab": {
          "base_uri": "https://localhost:8080/"
        },
        "id": "FY6aHpoR3TpS",
        "outputId": "989ba44e-c866-4e7c-e574-0e4f4b230ba2"
      },
      "id": "FY6aHpoR3TpS",
      "execution_count": null,
      "outputs": [
        {
          "output_type": "stream",
          "name": "stdout",
          "text": [
            "Epoch 1/50\n",
            "394/394 [==============================] - 16s 42ms/step - loss: 0.1272 - accuracy: 0.9507 - val_loss: 0.4047 - val_accuracy: 0.8502\n",
            "Epoch 2/50\n",
            "394/394 [==============================] - 16s 42ms/step - loss: 0.1311 - accuracy: 0.9521 - val_loss: 0.5543 - val_accuracy: 0.8276\n",
            "Epoch 3/50\n",
            "394/394 [==============================] - 13s 34ms/step - loss: 0.1227 - accuracy: 0.9551 - val_loss: 0.4834 - val_accuracy: 0.8454\n",
            "Epoch 4/50\n",
            "394/394 [==============================] - 12s 30ms/step - loss: 0.1287 - accuracy: 0.9516 - val_loss: 0.4474 - val_accuracy: 0.8485\n",
            "Epoch 5/50\n",
            "394/394 [==============================] - 12s 29ms/step - loss: 0.1232 - accuracy: 0.9529 - val_loss: 0.4551 - val_accuracy: 0.8465\n",
            "Epoch 6/50\n",
            "394/394 [==============================] - 12s 30ms/step - loss: 0.1230 - accuracy: 0.9558 - val_loss: 0.4675 - val_accuracy: 0.8481\n",
            "Epoch 7/50\n",
            "394/394 [==============================] - 12s 29ms/step - loss: 0.1174 - accuracy: 0.9567 - val_loss: 0.4811 - val_accuracy: 0.8519\n",
            "Epoch 8/50\n",
            "394/394 [==============================] - 12s 29ms/step - loss: 0.1113 - accuracy: 0.9587 - val_loss: 0.4486 - val_accuracy: 0.8428\n",
            "Epoch 9/50\n",
            "394/394 [==============================] - 12s 29ms/step - loss: 0.1033 - accuracy: 0.9614 - val_loss: 0.4701 - val_accuracy: 0.8315\n",
            "Epoch 10/50\n",
            "394/394 [==============================] - 12s 30ms/step - loss: 0.1046 - accuracy: 0.9613 - val_loss: 0.4451 - val_accuracy: 0.8489\n",
            "Epoch 11/50\n",
            "394/394 [==============================] - 12s 31ms/step - loss: 0.1037 - accuracy: 0.9607 - val_loss: 0.4631 - val_accuracy: 0.8519\n",
            "Epoch 12/50\n",
            "394/394 [==============================] - 12s 30ms/step - loss: 0.1014 - accuracy: 0.9615 - val_loss: 0.4217 - val_accuracy: 0.8470\n",
            "Epoch 13/50\n",
            "394/394 [==============================] - 12s 29ms/step - loss: 0.1123 - accuracy: 0.9591 - val_loss: 0.4892 - val_accuracy: 0.8506\n",
            "Epoch 14/50\n",
            "394/394 [==============================] - 11s 29ms/step - loss: 0.1016 - accuracy: 0.9616 - val_loss: 0.5169 - val_accuracy: 0.8483\n",
            "Epoch 15/50\n",
            "394/394 [==============================] - 12s 30ms/step - loss: 0.0962 - accuracy: 0.9656 - val_loss: 0.4724 - val_accuracy: 0.8557\n",
            "Epoch 16/50\n",
            "394/394 [==============================] - 12s 30ms/step - loss: 0.0987 - accuracy: 0.9619 - val_loss: 0.5248 - val_accuracy: 0.8454\n",
            "Epoch 17/50\n",
            "394/394 [==============================] - 12s 29ms/step - loss: 0.0974 - accuracy: 0.9642 - val_loss: 0.4799 - val_accuracy: 0.8431\n",
            "Epoch 18/50\n",
            "394/394 [==============================] - 12s 29ms/step - loss: 0.0987 - accuracy: 0.9647 - val_loss: 0.4568 - val_accuracy: 0.8543\n",
            "Epoch 19/50\n",
            "394/394 [==============================] - 12s 29ms/step - loss: 0.0996 - accuracy: 0.9640 - val_loss: 0.4953 - val_accuracy: 0.8526\n",
            "Epoch 20/50\n",
            "394/394 [==============================] - 13s 33ms/step - loss: 0.0868 - accuracy: 0.9683 - val_loss: 0.5022 - val_accuracy: 0.8396\n",
            "Epoch 21/50\n",
            "394/394 [==============================] - 12s 30ms/step - loss: 0.0879 - accuracy: 0.9667 - val_loss: 0.5241 - val_accuracy: 0.8539\n",
            "Epoch 22/50\n",
            "394/394 [==============================] - 12s 30ms/step - loss: 0.0819 - accuracy: 0.9700 - val_loss: 0.5122 - val_accuracy: 0.8441\n",
            "Epoch 23/50\n",
            "394/394 [==============================] - 12s 30ms/step - loss: 0.0876 - accuracy: 0.9679 - val_loss: 0.5149 - val_accuracy: 0.8400\n",
            "Epoch 24/50\n",
            "394/394 [==============================] - 12s 30ms/step - loss: 0.0841 - accuracy: 0.9697 - val_loss: 0.5195 - val_accuracy: 0.8443\n",
            "Epoch 25/50\n",
            "394/394 [==============================] - 12s 29ms/step - loss: 0.0796 - accuracy: 0.9715 - val_loss: 0.5164 - val_accuracy: 0.8431\n",
            "Epoch 26/50\n",
            "394/394 [==============================] - 12s 29ms/step - loss: 0.0783 - accuracy: 0.9720 - val_loss: 0.5313 - val_accuracy: 0.8543\n",
            "Epoch 27/50\n",
            "394/394 [==============================] - 11s 29ms/step - loss: 0.0823 - accuracy: 0.9699 - val_loss: 0.5000 - val_accuracy: 0.8561\n",
            "Epoch 28/50\n",
            "394/394 [==============================] - 12s 32ms/step - loss: 0.0736 - accuracy: 0.9732 - val_loss: 0.5326 - val_accuracy: 0.8483\n",
            "Epoch 29/50\n",
            "394/394 [==============================] - 15s 38ms/step - loss: 0.0794 - accuracy: 0.9701 - val_loss: 0.5281 - val_accuracy: 0.8520\n",
            "Epoch 30/50\n",
            "394/394 [==============================] - 12s 29ms/step - loss: 0.0761 - accuracy: 0.9706 - val_loss: 0.5016 - val_accuracy: 0.8554\n",
            "Epoch 31/50\n",
            "394/394 [==============================] - 12s 29ms/step - loss: 0.0834 - accuracy: 0.9681 - val_loss: 0.5170 - val_accuracy: 0.8546\n",
            "Epoch 32/50\n",
            "394/394 [==============================] - 12s 29ms/step - loss: 0.0789 - accuracy: 0.9714 - val_loss: 0.5527 - val_accuracy: 0.8557\n",
            "Epoch 33/50\n",
            "394/394 [==============================] - 12s 29ms/step - loss: 0.0705 - accuracy: 0.9734 - val_loss: 0.4665 - val_accuracy: 0.8563\n",
            "Epoch 34/50\n",
            "394/394 [==============================] - 12s 30ms/step - loss: 0.0771 - accuracy: 0.9723 - val_loss: 0.5810 - val_accuracy: 0.8548\n",
            "Epoch 35/50\n",
            "394/394 [==============================] - 12s 30ms/step - loss: 0.0641 - accuracy: 0.9775 - val_loss: 0.5076 - val_accuracy: 0.8537\n",
            "Epoch 36/50\n",
            "394/394 [==============================] - 12s 29ms/step - loss: 0.0718 - accuracy: 0.9748 - val_loss: 0.5203 - val_accuracy: 0.8435\n",
            "Epoch 37/50\n",
            "394/394 [==============================] - 12s 29ms/step - loss: 0.0666 - accuracy: 0.9736 - val_loss: 0.5670 - val_accuracy: 0.8465\n",
            "Epoch 38/50\n",
            "394/394 [==============================] - 12s 30ms/step - loss: 0.0678 - accuracy: 0.9754 - val_loss: 0.5250 - val_accuracy: 0.8548\n",
            "Epoch 39/50\n",
            "394/394 [==============================] - 12s 30ms/step - loss: 0.0647 - accuracy: 0.9749 - val_loss: 0.6684 - val_accuracy: 0.8496\n",
            "Epoch 40/50\n",
            "394/394 [==============================] - 12s 30ms/step - loss: 0.0650 - accuracy: 0.9756 - val_loss: 0.5683 - val_accuracy: 0.8541\n",
            "Epoch 41/50\n",
            "394/394 [==============================] - 12s 29ms/step - loss: 0.0653 - accuracy: 0.9766 - val_loss: 0.5206 - val_accuracy: 0.8576\n",
            "Epoch 42/50\n",
            "394/394 [==============================] - 11s 29ms/step - loss: 0.0696 - accuracy: 0.9740 - val_loss: 0.5589 - val_accuracy: 0.8581\n",
            "Epoch 43/50\n",
            "394/394 [==============================] - 12s 29ms/step - loss: 0.0664 - accuracy: 0.9755 - val_loss: 0.5332 - val_accuracy: 0.8483\n",
            "Epoch 44/50\n",
            "394/394 [==============================] - 12s 29ms/step - loss: 0.0653 - accuracy: 0.9769 - val_loss: 0.5675 - val_accuracy: 0.8513\n",
            "Epoch 45/50\n",
            "394/394 [==============================] - 12s 29ms/step - loss: 0.0647 - accuracy: 0.9758 - val_loss: 0.5635 - val_accuracy: 0.8491\n",
            "Epoch 46/50\n",
            "394/394 [==============================] - 12s 29ms/step - loss: 0.0656 - accuracy: 0.9765 - val_loss: 0.5525 - val_accuracy: 0.8457\n",
            "Epoch 47/50\n",
            "394/394 [==============================] - 12s 29ms/step - loss: 0.0610 - accuracy: 0.9791 - val_loss: 0.6033 - val_accuracy: 0.8585\n",
            "Epoch 48/50\n",
            "394/394 [==============================] - 12s 29ms/step - loss: 0.0642 - accuracy: 0.9773 - val_loss: 0.5116 - val_accuracy: 0.8556\n",
            "Epoch 49/50\n",
            "394/394 [==============================] - 12s 29ms/step - loss: 0.0645 - accuracy: 0.9751 - val_loss: 0.5203 - val_accuracy: 0.8583\n",
            "Epoch 50/50\n",
            "394/394 [==============================] - 12s 29ms/step - loss: 0.0574 - accuracy: 0.9807 - val_loss: 0.5206 - val_accuracy: 0.8546\n"
          ]
        }
      ]
    },
    {
      "cell_type": "code",
      "source": [
        "# model.fit(trainX, trainY, validation_data=(validationX, validationY),epochs=50)"
      ],
      "metadata": {
        "id": "UNNSBCpizJnO"
      },
      "id": "UNNSBCpizJnO",
      "execution_count": null,
      "outputs": []
    },
    {
      "cell_type": "code",
      "source": [
        "history = model.fit(\n",
        "    trainX, trainY, validation_data=(validationX, validationY),epochs=50\n",
        "    \n",
        "    )"
      ],
      "metadata": {
        "colab": {
          "base_uri": "https://localhost:8080/"
        },
        "id": "cetsRE064Tfe",
        "outputId": "c3ce1d22-d167-4823-82e1-b3815546cc15"
      },
      "id": "cetsRE064Tfe",
      "execution_count": null,
      "outputs": [
        {
          "output_type": "stream",
          "name": "stdout",
          "text": [
            "Epoch 1/50\n",
            "394/394 [==============================] - 13s 32ms/step - loss: 0.0596 - accuracy: 0.9794 - val_loss: 0.4900 - val_accuracy: 0.8519\n",
            "Epoch 2/50\n",
            "394/394 [==============================] - 12s 30ms/step - loss: 0.0595 - accuracy: 0.9787 - val_loss: 0.5497 - val_accuracy: 0.8528\n",
            "Epoch 3/50\n",
            "394/394 [==============================] - 12s 29ms/step - loss: 0.0549 - accuracy: 0.9802 - val_loss: 0.5798 - val_accuracy: 0.8539\n",
            "Epoch 4/50\n",
            "394/394 [==============================] - 12s 29ms/step - loss: 0.0586 - accuracy: 0.9784 - val_loss: 0.5257 - val_accuracy: 0.8574\n",
            "Epoch 5/50\n",
            "394/394 [==============================] - 12s 30ms/step - loss: 0.0631 - accuracy: 0.9768 - val_loss: 0.4961 - val_accuracy: 0.8528\n",
            "Epoch 6/50\n",
            "394/394 [==============================] - 12s 29ms/step - loss: 0.0525 - accuracy: 0.9817 - val_loss: 0.6034 - val_accuracy: 0.8530\n",
            "Epoch 7/50\n",
            "394/394 [==============================] - 11s 29ms/step - loss: 0.0575 - accuracy: 0.9786 - val_loss: 0.5663 - val_accuracy: 0.8572\n",
            "Epoch 8/50\n",
            "394/394 [==============================] - 11s 29ms/step - loss: 0.0586 - accuracy: 0.9774 - val_loss: 0.5307 - val_accuracy: 0.8556\n",
            "Epoch 9/50\n",
            "394/394 [==============================] - 11s 29ms/step - loss: 0.0605 - accuracy: 0.9787 - val_loss: 0.5930 - val_accuracy: 0.8572\n",
            "Epoch 10/50\n",
            "394/394 [==============================] - 12s 29ms/step - loss: 0.0621 - accuracy: 0.9779 - val_loss: 0.5189 - val_accuracy: 0.8563\n",
            "Epoch 11/50\n",
            "394/394 [==============================] - 12s 29ms/step - loss: 0.0553 - accuracy: 0.9793 - val_loss: 0.5659 - val_accuracy: 0.8559\n",
            "Epoch 12/50\n",
            "394/394 [==============================] - 12s 29ms/step - loss: 0.0528 - accuracy: 0.9819 - val_loss: 0.5832 - val_accuracy: 0.8602\n",
            "Epoch 13/50\n",
            "394/394 [==============================] - 11s 29ms/step - loss: 0.0532 - accuracy: 0.9810 - val_loss: 0.5761 - val_accuracy: 0.8530\n",
            "Epoch 14/50\n",
            "394/394 [==============================] - 12s 29ms/step - loss: 0.0536 - accuracy: 0.9801 - val_loss: 0.6225 - val_accuracy: 0.8583\n",
            "Epoch 15/50\n",
            "394/394 [==============================] - 11s 29ms/step - loss: 0.0540 - accuracy: 0.9807 - val_loss: 0.6069 - val_accuracy: 0.8485\n",
            "Epoch 16/50\n",
            "394/394 [==============================] - 11s 29ms/step - loss: 0.0547 - accuracy: 0.9798 - val_loss: 0.5678 - val_accuracy: 0.8552\n",
            "Epoch 17/50\n",
            "394/394 [==============================] - 11s 29ms/step - loss: 0.0540 - accuracy: 0.9795 - val_loss: 0.5828 - val_accuracy: 0.8548\n",
            "Epoch 18/50\n",
            "394/394 [==============================] - 11s 29ms/step - loss: 0.0578 - accuracy: 0.9790 - val_loss: 0.5720 - val_accuracy: 0.8454\n",
            "Epoch 19/50\n",
            "394/394 [==============================] - 12s 29ms/step - loss: 0.0489 - accuracy: 0.9825 - val_loss: 0.6080 - val_accuracy: 0.8474\n",
            "Epoch 20/50\n",
            "394/394 [==============================] - 11s 29ms/step - loss: 0.0510 - accuracy: 0.9828 - val_loss: 0.5878 - val_accuracy: 0.8548\n",
            "Epoch 21/50\n",
            "394/394 [==============================] - 11s 29ms/step - loss: 0.0533 - accuracy: 0.9811 - val_loss: 0.6832 - val_accuracy: 0.8570\n",
            "Epoch 22/50\n",
            "394/394 [==============================] - 12s 29ms/step - loss: 0.0436 - accuracy: 0.9847 - val_loss: 0.6606 - val_accuracy: 0.8550\n",
            "Epoch 23/50\n",
            "394/394 [==============================] - 11s 29ms/step - loss: 0.0535 - accuracy: 0.9814 - val_loss: 0.6193 - val_accuracy: 0.8437\n",
            "Epoch 24/50\n",
            "394/394 [==============================] - 12s 29ms/step - loss: 0.0493 - accuracy: 0.9831 - val_loss: 0.6832 - val_accuracy: 0.8535\n",
            "Epoch 25/50\n",
            "394/394 [==============================] - 12s 29ms/step - loss: 0.0537 - accuracy: 0.9815 - val_loss: 0.5595 - val_accuracy: 0.8533\n",
            "Epoch 26/50\n",
            "394/394 [==============================] - 11s 29ms/step - loss: 0.0550 - accuracy: 0.9790 - val_loss: 0.5853 - val_accuracy: 0.8548\n",
            "Epoch 27/50\n",
            "394/394 [==============================] - 12s 29ms/step - loss: 0.0486 - accuracy: 0.9829 - val_loss: 0.5213 - val_accuracy: 0.8594\n",
            "Epoch 28/50\n",
            "394/394 [==============================] - 11s 29ms/step - loss: 0.0501 - accuracy: 0.9809 - val_loss: 0.7068 - val_accuracy: 0.8511\n",
            "Epoch 29/50\n",
            "394/394 [==============================] - 12s 30ms/step - loss: 0.0485 - accuracy: 0.9827 - val_loss: 0.6387 - val_accuracy: 0.8563\n",
            "Epoch 30/50\n",
            "394/394 [==============================] - 12s 30ms/step - loss: 0.0459 - accuracy: 0.9830 - val_loss: 0.6525 - val_accuracy: 0.8496\n",
            "Epoch 31/50\n",
            "394/394 [==============================] - 12s 29ms/step - loss: 0.0519 - accuracy: 0.9821 - val_loss: 0.5687 - val_accuracy: 0.8594\n",
            "Epoch 32/50\n",
            "394/394 [==============================] - 12s 29ms/step - loss: 0.0441 - accuracy: 0.9845 - val_loss: 0.6024 - val_accuracy: 0.8541\n",
            "Epoch 33/50\n",
            "394/394 [==============================] - 12s 29ms/step - loss: 0.0494 - accuracy: 0.9829 - val_loss: 0.5848 - val_accuracy: 0.8606\n",
            "Epoch 34/50\n",
            "394/394 [==============================] - 12s 30ms/step - loss: 0.0515 - accuracy: 0.9817 - val_loss: 0.6288 - val_accuracy: 0.8565\n",
            "Epoch 35/50\n",
            "394/394 [==============================] - 12s 30ms/step - loss: 0.0440 - accuracy: 0.9848 - val_loss: 0.6527 - val_accuracy: 0.8467\n",
            "Epoch 36/50\n",
            "394/394 [==============================] - 11s 29ms/step - loss: 0.0465 - accuracy: 0.9829 - val_loss: 0.6097 - val_accuracy: 0.8474\n",
            "Epoch 37/50\n",
            "394/394 [==============================] - 12s 29ms/step - loss: 0.0451 - accuracy: 0.9842 - val_loss: 0.5771 - val_accuracy: 0.8587\n",
            "Epoch 38/50\n",
            "394/394 [==============================] - 12s 30ms/step - loss: 0.0403 - accuracy: 0.9854 - val_loss: 0.5955 - val_accuracy: 0.8563\n",
            "Epoch 39/50\n",
            "394/394 [==============================] - 12s 29ms/step - loss: 0.0419 - accuracy: 0.9861 - val_loss: 0.5850 - val_accuracy: 0.8624\n",
            "Epoch 40/50\n",
            "394/394 [==============================] - 12s 29ms/step - loss: 0.0414 - accuracy: 0.9861 - val_loss: 0.6440 - val_accuracy: 0.8550\n",
            "Epoch 41/50\n",
            "394/394 [==============================] - 12s 29ms/step - loss: 0.0399 - accuracy: 0.9853 - val_loss: 0.5874 - val_accuracy: 0.8585\n",
            "Epoch 42/50\n",
            "394/394 [==============================] - 12s 30ms/step - loss: 0.0448 - accuracy: 0.9837 - val_loss: 0.5986 - val_accuracy: 0.8496\n",
            "Epoch 43/50\n",
            "394/394 [==============================] - 12s 30ms/step - loss: 0.0422 - accuracy: 0.9848 - val_loss: 0.6465 - val_accuracy: 0.8604\n",
            "Epoch 44/50\n",
            "394/394 [==============================] - 12s 29ms/step - loss: 0.0456 - accuracy: 0.9829 - val_loss: 0.7104 - val_accuracy: 0.8480\n",
            "Epoch 45/50\n",
            "394/394 [==============================] - 12s 30ms/step - loss: 0.0452 - accuracy: 0.9835 - val_loss: 0.5941 - val_accuracy: 0.8572\n",
            "Epoch 46/50\n",
            "394/394 [==============================] - 12s 30ms/step - loss: 0.0433 - accuracy: 0.9857 - val_loss: 0.6459 - val_accuracy: 0.8552\n",
            "Epoch 47/50\n",
            "394/394 [==============================] - 12s 30ms/step - loss: 0.0484 - accuracy: 0.9828 - val_loss: 0.6031 - val_accuracy: 0.8574\n",
            "Epoch 48/50\n",
            "394/394 [==============================] - 12s 29ms/step - loss: 0.0380 - accuracy: 0.9860 - val_loss: 0.6288 - val_accuracy: 0.8598\n",
            "Epoch 49/50\n",
            "394/394 [==============================] - 12s 29ms/step - loss: 0.0414 - accuracy: 0.9854 - val_loss: 0.6426 - val_accuracy: 0.8563\n",
            "Epoch 50/50\n",
            "394/394 [==============================] - 12s 29ms/step - loss: 0.0467 - accuracy: 0.9840 - val_loss: 0.6138 - val_accuracy: 0.8526\n"
          ]
        }
      ]
    },
    {
      "cell_type": "code",
      "source": [
        "from keras import callbacks\n",
        "earlystopping = callbacks.EarlyStopping(monitor =\"val_loss\", \n",
        "                                        mode =\"min\", patience = 5, \n",
        "                                        restore_best_weights = True)"
      ],
      "metadata": {
        "id": "hiJiMond8EHD"
      },
      "id": "hiJiMond8EHD",
      "execution_count": null,
      "outputs": []
    },
    {
      "cell_type": "code",
      "source": [
        "history = model.fit(\n",
        "    trainX, trainY, validation_data=(validationX, validationY),epochs=10,\n",
        "     callbacks =[earlystopping]\n",
        "    )"
      ],
      "metadata": {
        "colab": {
          "base_uri": "https://localhost:8080/"
        },
        "id": "CSuOtZe178ES",
        "outputId": "b83f84ef-2ef1-4b76-acfa-2825a09212cc"
      },
      "id": "CSuOtZe178ES",
      "execution_count": null,
      "outputs": [
        {
          "output_type": "stream",
          "name": "stdout",
          "text": [
            "Epoch 1/10\n",
            "394/394 [==============================] - 15s 39ms/step - loss: 0.0390 - accuracy: 0.9863 - val_loss: 0.7051 - val_accuracy: 0.8565\n",
            "Epoch 2/10\n",
            "394/394 [==============================] - 12s 30ms/step - loss: 0.0385 - accuracy: 0.9856 - val_loss: 0.6667 - val_accuracy: 0.8565\n",
            "Epoch 3/10\n",
            "394/394 [==============================] - 12s 30ms/step - loss: 0.0423 - accuracy: 0.9841 - val_loss: 0.6501 - val_accuracy: 0.8530\n",
            "Epoch 4/10\n",
            "394/394 [==============================] - 12s 29ms/step - loss: 0.0429 - accuracy: 0.9854 - val_loss: 0.6464 - val_accuracy: 0.8526\n",
            "Epoch 5/10\n",
            "394/394 [==============================] - 12s 30ms/step - loss: 0.0433 - accuracy: 0.9850 - val_loss: 0.6277 - val_accuracy: 0.8487\n",
            "Epoch 6/10\n",
            "394/394 [==============================] - 12s 31ms/step - loss: 0.0490 - accuracy: 0.9822 - val_loss: 0.6038 - val_accuracy: 0.8561\n",
            "Epoch 7/10\n",
            "394/394 [==============================] - 12s 29ms/step - loss: 0.0379 - accuracy: 0.9866 - val_loss: 0.6315 - val_accuracy: 0.8559\n",
            "Epoch 8/10\n",
            "394/394 [==============================] - 11s 29ms/step - loss: 0.0371 - accuracy: 0.9867 - val_loss: 0.6526 - val_accuracy: 0.8602\n",
            "Epoch 9/10\n",
            "394/394 [==============================] - 12s 29ms/step - loss: 0.0385 - accuracy: 0.9864 - val_loss: 0.6485 - val_accuracy: 0.8576\n",
            "Epoch 10/10\n",
            "394/394 [==============================] - 11s 29ms/step - loss: 0.0401 - accuracy: 0.9867 - val_loss: 0.6683 - val_accuracy: 0.8583\n"
          ]
        }
      ]
    },
    {
      "cell_type": "code",
      "source": [
        "history = model.fit(\n",
        "    trainX, trainY, validation_data=(validationX, validationY),epochs=10,\n",
        "     callbacks =[earlystopping]\n",
        "    )"
      ],
      "metadata": {
        "colab": {
          "base_uri": "https://localhost:8080/"
        },
        "id": "_uECK3LO8De7",
        "outputId": "e3ebc428-a2a2-4650-d79a-ca30256bd0a7"
      },
      "id": "_uECK3LO8De7",
      "execution_count": null,
      "outputs": [
        {
          "output_type": "stream",
          "name": "stdout",
          "text": [
            "Epoch 1/10\n",
            "394/394 [==============================] - 14s 36ms/step - loss: 0.0380 - accuracy: 0.9864 - val_loss: 0.6648 - val_accuracy: 0.8465\n",
            "Epoch 2/10\n",
            "394/394 [==============================] - 12s 29ms/step - loss: 0.0428 - accuracy: 0.9852 - val_loss: 0.6779 - val_accuracy: 0.8439\n",
            "Epoch 3/10\n",
            "394/394 [==============================] - 12s 29ms/step - loss: 0.0367 - accuracy: 0.9872 - val_loss: 0.7141 - val_accuracy: 0.8457\n",
            "Epoch 4/10\n",
            "382/394 [============================>.] - ETA: 0s - loss: 0.0317 - accuracy: 0.9901\b\b\b\b\b\b\b\b\b\b\b\b\b\b\b\b\b\b\b\b\b\b\b\b\b\b\b\b\b\b\b\b\b\b\b\b\b\b\b\b\b\b\b\b\b\b\b\b\b\b\b\b\b\b\b\b\b\b\b\b\b\b\b\b\b\b\b\b\b\b\b\b\b\b\b\b\b\b\b\b\b\b\b\b"
          ]
        }
      ]
    },
    {
      "cell_type": "code",
      "source": [
        "model.save('model9.h5')"
      ],
      "metadata": {
        "colab": {
          "base_uri": "https://localhost:8080/"
        },
        "id": "48Uy42EA1HG-",
        "outputId": "705c2856-d088-40b6-d444-8ae7c7e09bbf"
      },
      "id": "48Uy42EA1HG-",
      "execution_count": null,
      "outputs": [
        {
          "output_type": "stream",
          "name": "stderr",
          "text": [
            "/usr/local/lib/python3.7/dist-packages/keras/engine/functional.py:1410: CustomMaskWarning: Custom mask layers require a config and must override get_config. When loading, the custom mask layer must be passed to the custom_objects argument.\n",
            "  layer_config = serialize_layer_fn(layer)\n"
          ]
        }
      ]
    }
  ],
  "metadata": {
    "kernelspec": {
      "display_name": "Python 3",
      "language": "python",
      "name": "python3"
    },
    "language_info": {
      "codemirror_mode": {
        "name": "ipython",
        "version": 3
      },
      "file_extension": ".py",
      "mimetype": "text/x-python",
      "name": "python",
      "nbconvert_exporter": "python",
      "pygments_lexer": "ipython3",
      "version": "3.8.8"
    },
    "colab": {
      "name": "EfficientNet.ipynb",
      "provenance": []
    },
    "accelerator": "GPU"
  },
  "nbformat": 4,
  "nbformat_minor": 5
}
